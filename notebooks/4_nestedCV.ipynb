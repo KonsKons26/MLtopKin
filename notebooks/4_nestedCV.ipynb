{
 "cells": [
  {
   "cell_type": "code",
   "execution_count": 1,
   "id": "d1e0aa39",
   "metadata": {},
   "outputs": [
    {
     "name": "stdout",
     "output_type": "stream",
     "text": [
      "/home/cotsios/dsit/2nd-semester/algos-in-struct-bio/project/MLtopKin\n"
     ]
    }
   ],
   "source": [
    "import sys\n",
    "import os\n",
    "\n",
    "\n",
    "sys.path.append(os.path.abspath(os.path.join(os.getcwd(), \"..\")))\n",
    "print(sys.path[-1])"
   ]
  },
  {
   "cell_type": "code",
   "execution_count": 2,
   "id": "5b41ee72",
   "metadata": {},
   "outputs": [
    {
     "name": "stdout",
     "output_type": "stream",
     "text": [
      "/home/cotsios/dsit/2nd-semester/algos-in-struct-bio/project/MLtopKin\n",
      "/home/cotsios/dsit/2nd-semester/algos-in-struct-bio/project/MLtopKin/features\n",
      "/home/cotsios/dsit/2nd-semester/algos-in-struct-bio/project/MLtopKin/models\n",
      "/home/cotsios/dsit/2nd-semester/algos-in-struct-bio/project/MLtopKin/results\n"
     ]
    }
   ],
   "source": [
    "BASE_DIR = os.path.dirname(os.getcwd())\n",
    "FEATURES_DIR = os.path.join(BASE_DIR, 'features')\n",
    "MODELS_DIR = os.path.join(BASE_DIR, 'models')\n",
    "RESULTS_DIR = os.path.join(BASE_DIR, 'results')\n",
    "\n",
    "os.makedirs(FEATURES_DIR, exist_ok=True)\n",
    "os.makedirs(MODELS_DIR, exist_ok=True)\n",
    "os.makedirs(RESULTS_DIR, exist_ok=True)\n",
    "\n",
    "print(BASE_DIR)\n",
    "print(FEATURES_DIR)\n",
    "print(MODELS_DIR)\n",
    "print(RESULTS_DIR)"
   ]
  },
  {
   "cell_type": "code",
   "execution_count": 3,
   "id": "d20480f5",
   "metadata": {},
   "outputs": [],
   "source": [
    "import numpy as np\n",
    "import pandas as pd\n",
    "\n",
    "from src.nested_cv import complete_pipeline"
   ]
  },
  {
   "cell_type": "code",
   "execution_count": 4,
   "id": "ad158a82",
   "metadata": {},
   "outputs": [],
   "source": [
    "VALID_MODELS = [\n",
    "    \"SVC\",\n",
    "    \"RandomForestClassifier\",\n",
    "    \"LGBMClassifier\",\n",
    "]"
   ]
  },
  {
   "cell_type": "code",
   "execution_count": 5,
   "id": "f3982d53",
   "metadata": {},
   "outputs": [],
   "source": [
    "data = np.load(\n",
    "    os.path.join(FEATURES_DIR, 'kincore.npz'), allow_pickle=True\n",
    ")\n",
    "X, y, metadata = data['X'], data['y'], data['metadata']"
   ]
  },
  {
   "cell_type": "code",
   "execution_count": 6,
   "id": "10f462c4",
   "metadata": {},
   "outputs": [],
   "source": [
    "X = pd.DataFrame(X)\n",
    "y = pd.Series(y, name='target')"
   ]
  },
  {
   "cell_type": "markdown",
   "id": "4ce6ac85",
   "metadata": {},
   "source": [
    "# The following takes around 160 minutes"
   ]
  },
  {
   "cell_type": "code",
   "execution_count": 7,
   "id": "44b6ae49",
   "metadata": {},
   "outputs": [
    {
     "name": "stdout",
     "output_type": "stream",
     "text": [
      "--------------------------------------------------\n",
      "                       SVC                        \n",
      "--------------------------------------------------\n",
      "\n",
      "[2025/09/09-22:31:19] Starting Nested CV for SVC...\n",
      "[2025/09/09-22:31:19] Starting Round 1/5...\n",
      "[2025/09/09-22:31:19]\tOuter Fold 1/5...\n"
     ]
    },
    {
     "data": {
      "application/vnd.jupyter.widget-view+json": {
       "model_id": "68d313996f9e4d44b637d29a03324286",
       "version_major": 2,
       "version_minor": 0
      },
      "text/plain": [
       "  0%|          | 0/50 [00:00<?, ?it/s]"
      ]
     },
     "metadata": {},
     "output_type": "display_data"
    },
    {
     "name": "stdout",
     "output_type": "stream",
     "text": [
      "[2025/09/09-22:32:55]\tSelected top 10 most common features for final model.\n",
      "[2025/09/09-22:32:55]\tOuter Fold 1 completed. Main Metric (mcc):\t0.1650\n",
      "[2025/09/09-22:32:55]\tOuter Fold 2/5...\n"
     ]
    },
    {
     "data": {
      "application/vnd.jupyter.widget-view+json": {
       "model_id": "fb249e671faf43fbb2e0da63e47144c3",
       "version_major": 2,
       "version_minor": 0
      },
      "text/plain": [
       "  0%|          | 0/50 [00:00<?, ?it/s]"
      ]
     },
     "metadata": {},
     "output_type": "display_data"
    },
    {
     "name": "stdout",
     "output_type": "stream",
     "text": [
      "[2025/09/09-22:34:30]\tSelected top 10 most common features for final model.\n",
      "[2025/09/09-22:34:30]\tOuter Fold 2 completed. Main Metric (mcc):\t0.1714\n",
      "[2025/09/09-22:34:30]\tOuter Fold 3/5...\n"
     ]
    },
    {
     "data": {
      "application/vnd.jupyter.widget-view+json": {
       "model_id": "824edd202b83480898d6f4fe3d140a60",
       "version_major": 2,
       "version_minor": 0
      },
      "text/plain": [
       "  0%|          | 0/50 [00:00<?, ?it/s]"
      ]
     },
     "metadata": {},
     "output_type": "display_data"
    },
    {
     "name": "stdout",
     "output_type": "stream",
     "text": [
      "[2025/09/09-22:36:06]\tSelected top 10 most common features for final model.\n",
      "[2025/09/09-22:36:06]\tOuter Fold 3 completed. Main Metric (mcc):\t0.1876\n",
      "[2025/09/09-22:36:06]\tOuter Fold 4/5...\n"
     ]
    },
    {
     "data": {
      "application/vnd.jupyter.widget-view+json": {
       "model_id": "e359d778d8d24e659c86ad8a9938d0b0",
       "version_major": 2,
       "version_minor": 0
      },
      "text/plain": [
       "  0%|          | 0/50 [00:00<?, ?it/s]"
      ]
     },
     "metadata": {},
     "output_type": "display_data"
    },
    {
     "name": "stdout",
     "output_type": "stream",
     "text": [
      "[2025/09/09-22:37:43]\tSelected top 10 most common features for final model.\n",
      "[2025/09/09-22:37:43]\tOuter Fold 4 completed. Main Metric (mcc):\t0.1747\n",
      "[2025/09/09-22:37:43]\tOuter Fold 5/5...\n"
     ]
    },
    {
     "data": {
      "application/vnd.jupyter.widget-view+json": {
       "model_id": "02da5381516c4ed3b18769643a8c3729",
       "version_major": 2,
       "version_minor": 0
      },
      "text/plain": [
       "  0%|          | 0/50 [00:00<?, ?it/s]"
      ]
     },
     "metadata": {},
     "output_type": "display_data"
    },
    {
     "name": "stdout",
     "output_type": "stream",
     "text": [
      "[2025/09/09-22:39:21]\tSelected top 10 most common features for final model.\n",
      "[2025/09/09-22:39:21]\tOuter Fold 5 completed. Main Metric (mcc):\t0.0982\n",
      "[2025/09/09-22:39:21] Starting Round 2/5...\n",
      "[2025/09/09-22:39:21]\tOuter Fold 1/5...\n"
     ]
    },
    {
     "data": {
      "application/vnd.jupyter.widget-view+json": {
       "model_id": "2e655bc738b34047b976c024efe3e3ff",
       "version_major": 2,
       "version_minor": 0
      },
      "text/plain": [
       "  0%|          | 0/50 [00:00<?, ?it/s]"
      ]
     },
     "metadata": {},
     "output_type": "display_data"
    },
    {
     "name": "stdout",
     "output_type": "stream",
     "text": [
      "[2025/09/09-22:40:59]\tSelected top 10 most common features for final model.\n",
      "[2025/09/09-22:40:59]\tOuter Fold 1 completed. Main Metric (mcc):\t0.1495\n",
      "[2025/09/09-22:40:59]\tOuter Fold 2/5...\n"
     ]
    },
    {
     "data": {
      "application/vnd.jupyter.widget-view+json": {
       "model_id": "60f86e7bdcb94e4fbd60e0aa5141a10a",
       "version_major": 2,
       "version_minor": 0
      },
      "text/plain": [
       "  0%|          | 0/50 [00:00<?, ?it/s]"
      ]
     },
     "metadata": {},
     "output_type": "display_data"
    },
    {
     "name": "stdout",
     "output_type": "stream",
     "text": [
      "[2025/09/09-22:42:38]\tSelected top 10 most common features for final model.\n",
      "[2025/09/09-22:42:39]\tOuter Fold 2 completed. Main Metric (mcc):\t0.1344\n",
      "[2025/09/09-22:42:39]\tOuter Fold 3/5...\n"
     ]
    },
    {
     "data": {
      "application/vnd.jupyter.widget-view+json": {
       "model_id": "756584e1e4524da6a8159b0ba3186e33",
       "version_major": 2,
       "version_minor": 0
      },
      "text/plain": [
       "  0%|          | 0/50 [00:00<?, ?it/s]"
      ]
     },
     "metadata": {},
     "output_type": "display_data"
    },
    {
     "name": "stdout",
     "output_type": "stream",
     "text": [
      "[2025/09/09-22:44:18]\tSelected top 10 most common features for final model.\n",
      "[2025/09/09-22:44:18]\tOuter Fold 3 completed. Main Metric (mcc):\t0.1978\n",
      "[2025/09/09-22:44:18]\tOuter Fold 4/5...\n"
     ]
    },
    {
     "data": {
      "application/vnd.jupyter.widget-view+json": {
       "model_id": "d0567cdfff2244128cbe63cbe180920d",
       "version_major": 2,
       "version_minor": 0
      },
      "text/plain": [
       "  0%|          | 0/50 [00:00<?, ?it/s]"
      ]
     },
     "metadata": {},
     "output_type": "display_data"
    },
    {
     "name": "stdout",
     "output_type": "stream",
     "text": [
      "[2025/09/09-22:45:57]\tSelected top 10 most common features for final model.\n",
      "[2025/09/09-22:45:57]\tOuter Fold 4 completed. Main Metric (mcc):\t0.1637\n",
      "[2025/09/09-22:45:57]\tOuter Fold 5/5...\n"
     ]
    },
    {
     "data": {
      "application/vnd.jupyter.widget-view+json": {
       "model_id": "f6b7118ebdf84c87ae104e03bd1ec03d",
       "version_major": 2,
       "version_minor": 0
      },
      "text/plain": [
       "  0%|          | 0/50 [00:00<?, ?it/s]"
      ]
     },
     "metadata": {},
     "output_type": "display_data"
    },
    {
     "name": "stdout",
     "output_type": "stream",
     "text": [
      "[2025/09/09-22:47:37]\tSelected top 10 most common features for final model.\n",
      "[2025/09/09-22:47:37]\tOuter Fold 5 completed. Main Metric (mcc):\t0.1988\n",
      "[2025/09/09-22:47:37] Starting Round 3/5...\n",
      "[2025/09/09-22:47:37]\tOuter Fold 1/5...\n"
     ]
    },
    {
     "data": {
      "application/vnd.jupyter.widget-view+json": {
       "model_id": "005237abd9bc46949160d6d3ca0c2b6f",
       "version_major": 2,
       "version_minor": 0
      },
      "text/plain": [
       "  0%|          | 0/50 [00:00<?, ?it/s]"
      ]
     },
     "metadata": {},
     "output_type": "display_data"
    },
    {
     "name": "stdout",
     "output_type": "stream",
     "text": [
      "[2025/09/09-22:49:17]\tSelected top 10 most common features for final model.\n",
      "[2025/09/09-22:49:18]\tOuter Fold 1 completed. Main Metric (mcc):\t0.1583\n",
      "[2025/09/09-22:49:18]\tOuter Fold 2/5...\n"
     ]
    },
    {
     "data": {
      "application/vnd.jupyter.widget-view+json": {
       "model_id": "5e7b86869a33416881d928358650945b",
       "version_major": 2,
       "version_minor": 0
      },
      "text/plain": [
       "  0%|          | 0/50 [00:00<?, ?it/s]"
      ]
     },
     "metadata": {},
     "output_type": "display_data"
    },
    {
     "name": "stdout",
     "output_type": "stream",
     "text": [
      "[2025/09/09-22:50:58]\tSelected top 10 most common features for final model.\n",
      "[2025/09/09-22:50:58]\tOuter Fold 2 completed. Main Metric (mcc):\t0.2106\n",
      "[2025/09/09-22:50:58]\tOuter Fold 3/5...\n"
     ]
    },
    {
     "data": {
      "application/vnd.jupyter.widget-view+json": {
       "model_id": "a954ba47c6db4040b80cfb8b03a73268",
       "version_major": 2,
       "version_minor": 0
      },
      "text/plain": [
       "  0%|          | 0/50 [00:00<?, ?it/s]"
      ]
     },
     "metadata": {},
     "output_type": "display_data"
    },
    {
     "name": "stdout",
     "output_type": "stream",
     "text": [
      "[2025/09/09-22:52:38]\tSelected top 10 most common features for final model.\n",
      "[2025/09/09-22:52:38]\tOuter Fold 3 completed. Main Metric (mcc):\t0.1871\n",
      "[2025/09/09-22:52:38]\tOuter Fold 4/5...\n"
     ]
    },
    {
     "data": {
      "application/vnd.jupyter.widget-view+json": {
       "model_id": "418c229fdf4c4ff287672a44b15be174",
       "version_major": 2,
       "version_minor": 0
      },
      "text/plain": [
       "  0%|          | 0/50 [00:00<?, ?it/s]"
      ]
     },
     "metadata": {},
     "output_type": "display_data"
    },
    {
     "name": "stdout",
     "output_type": "stream",
     "text": [
      "[2025/09/09-22:54:19]\tSelected top 10 most common features for final model.\n",
      "[2025/09/09-22:54:19]\tOuter Fold 4 completed. Main Metric (mcc):\t0.1461\n",
      "[2025/09/09-22:54:19]\tOuter Fold 5/5...\n"
     ]
    },
    {
     "data": {
      "application/vnd.jupyter.widget-view+json": {
       "model_id": "ff2a61e3eb0f407d890c43959031b695",
       "version_major": 2,
       "version_minor": 0
      },
      "text/plain": [
       "  0%|          | 0/50 [00:00<?, ?it/s]"
      ]
     },
     "metadata": {},
     "output_type": "display_data"
    },
    {
     "name": "stdout",
     "output_type": "stream",
     "text": [
      "[2025/09/09-22:56:00]\tSelected top 10 most common features for final model.\n",
      "[2025/09/09-22:56:00]\tOuter Fold 5 completed. Main Metric (mcc):\t0.1689\n",
      "[2025/09/09-22:56:00] Starting Round 4/5...\n",
      "[2025/09/09-22:56:00]\tOuter Fold 1/5...\n"
     ]
    },
    {
     "data": {
      "application/vnd.jupyter.widget-view+json": {
       "model_id": "302ce72dae7849bb952748e8689db92e",
       "version_major": 2,
       "version_minor": 0
      },
      "text/plain": [
       "  0%|          | 0/50 [00:00<?, ?it/s]"
      ]
     },
     "metadata": {},
     "output_type": "display_data"
    },
    {
     "name": "stdout",
     "output_type": "stream",
     "text": [
      "[2025/09/09-22:57:41]\tSelected top 10 most common features for final model.\n",
      "[2025/09/09-22:57:41]\tOuter Fold 1 completed. Main Metric (mcc):\t0.1728\n",
      "[2025/09/09-22:57:41]\tOuter Fold 2/5...\n"
     ]
    },
    {
     "data": {
      "application/vnd.jupyter.widget-view+json": {
       "model_id": "f6609a94103d446bb766c01d4a7a2e1b",
       "version_major": 2,
       "version_minor": 0
      },
      "text/plain": [
       "  0%|          | 0/50 [00:00<?, ?it/s]"
      ]
     },
     "metadata": {},
     "output_type": "display_data"
    },
    {
     "name": "stdout",
     "output_type": "stream",
     "text": [
      "[2025/09/09-22:59:22]\tSelected top 10 most common features for final model.\n",
      "[2025/09/09-22:59:22]\tOuter Fold 2 completed. Main Metric (mcc):\t0.1368\n",
      "[2025/09/09-22:59:22]\tOuter Fold 3/5...\n"
     ]
    },
    {
     "data": {
      "application/vnd.jupyter.widget-view+json": {
       "model_id": "4d03e51b54434b7cb396c8c4ee0d6035",
       "version_major": 2,
       "version_minor": 0
      },
      "text/plain": [
       "  0%|          | 0/50 [00:00<?, ?it/s]"
      ]
     },
     "metadata": {},
     "output_type": "display_data"
    },
    {
     "name": "stdout",
     "output_type": "stream",
     "text": [
      "[2025/09/09-23:01:03]\tSelected top 10 most common features for final model.\n",
      "[2025/09/09-23:01:03]\tOuter Fold 3 completed. Main Metric (mcc):\t0.1133\n",
      "[2025/09/09-23:01:03]\tOuter Fold 4/5...\n"
     ]
    },
    {
     "data": {
      "application/vnd.jupyter.widget-view+json": {
       "model_id": "6f81f4c66045432889b85787354994eb",
       "version_major": 2,
       "version_minor": 0
      },
      "text/plain": [
       "  0%|          | 0/50 [00:00<?, ?it/s]"
      ]
     },
     "metadata": {},
     "output_type": "display_data"
    },
    {
     "name": "stdout",
     "output_type": "stream",
     "text": [
      "[2025/09/09-23:02:45]\tSelected top 10 most common features for final model.\n",
      "[2025/09/09-23:02:45]\tOuter Fold 4 completed. Main Metric (mcc):\t0.1410\n",
      "[2025/09/09-23:02:45]\tOuter Fold 5/5...\n"
     ]
    },
    {
     "data": {
      "application/vnd.jupyter.widget-view+json": {
       "model_id": "4ca47a56a4e34d06b2baaca6b2d0df5f",
       "version_major": 2,
       "version_minor": 0
      },
      "text/plain": [
       "  0%|          | 0/50 [00:00<?, ?it/s]"
      ]
     },
     "metadata": {},
     "output_type": "display_data"
    },
    {
     "name": "stdout",
     "output_type": "stream",
     "text": [
      "[2025/09/09-23:04:27]\tSelected top 10 most common features for final model.\n",
      "[2025/09/09-23:04:27]\tOuter Fold 5 completed. Main Metric (mcc):\t0.1306\n",
      "[2025/09/09-23:04:27] Starting Round 5/5...\n",
      "[2025/09/09-23:04:27]\tOuter Fold 1/5...\n"
     ]
    },
    {
     "data": {
      "application/vnd.jupyter.widget-view+json": {
       "model_id": "3906f4772d3d47f3a3ca21c0389593fb",
       "version_major": 2,
       "version_minor": 0
      },
      "text/plain": [
       "  0%|          | 0/50 [00:00<?, ?it/s]"
      ]
     },
     "metadata": {},
     "output_type": "display_data"
    },
    {
     "name": "stdout",
     "output_type": "stream",
     "text": [
      "[2025/09/09-23:06:08]\tSelected top 10 most common features for final model.\n",
      "[2025/09/09-23:06:08]\tOuter Fold 1 completed. Main Metric (mcc):\t0.0842\n",
      "[2025/09/09-23:06:08]\tOuter Fold 2/5...\n"
     ]
    },
    {
     "data": {
      "application/vnd.jupyter.widget-view+json": {
       "model_id": "a7f4ee67a8f34694a66edb221fafe927",
       "version_major": 2,
       "version_minor": 0
      },
      "text/plain": [
       "  0%|          | 0/50 [00:00<?, ?it/s]"
      ]
     },
     "metadata": {},
     "output_type": "display_data"
    },
    {
     "name": "stdout",
     "output_type": "stream",
     "text": [
      "[2025/09/09-23:07:50]\tSelected top 10 most common features for final model.\n",
      "[2025/09/09-23:07:50]\tOuter Fold 2 completed. Main Metric (mcc):\t0.1206\n",
      "[2025/09/09-23:07:50]\tOuter Fold 3/5...\n"
     ]
    },
    {
     "data": {
      "application/vnd.jupyter.widget-view+json": {
       "model_id": "1517e2dc3d04447a82657c0ba87cfc04",
       "version_major": 2,
       "version_minor": 0
      },
      "text/plain": [
       "  0%|          | 0/50 [00:00<?, ?it/s]"
      ]
     },
     "metadata": {},
     "output_type": "display_data"
    },
    {
     "name": "stdout",
     "output_type": "stream",
     "text": [
      "[2025/09/09-23:09:32]\tSelected top 10 most common features for final model.\n",
      "[2025/09/09-23:09:32]\tOuter Fold 3 completed. Main Metric (mcc):\t0.1522\n",
      "[2025/09/09-23:09:32]\tOuter Fold 4/5...\n"
     ]
    },
    {
     "data": {
      "application/vnd.jupyter.widget-view+json": {
       "model_id": "d6ac9b967cbf480e996074c3b3dac6c0",
       "version_major": 2,
       "version_minor": 0
      },
      "text/plain": [
       "  0%|          | 0/50 [00:00<?, ?it/s]"
      ]
     },
     "metadata": {},
     "output_type": "display_data"
    },
    {
     "name": "stdout",
     "output_type": "stream",
     "text": [
      "[2025/09/09-23:11:15]\tSelected top 10 most common features for final model.\n",
      "[2025/09/09-23:11:15]\tOuter Fold 4 completed. Main Metric (mcc):\t0.2405\n",
      "[2025/09/09-23:11:15]\tOuter Fold 5/5...\n"
     ]
    },
    {
     "data": {
      "application/vnd.jupyter.widget-view+json": {
       "model_id": "d226eee823d645798f47851c44405c6c",
       "version_major": 2,
       "version_minor": 0
      },
      "text/plain": [
       "  0%|          | 0/50 [00:00<?, ?it/s]"
      ]
     },
     "metadata": {},
     "output_type": "display_data"
    },
    {
     "name": "stdout",
     "output_type": "stream",
     "text": [
      "[2025/09/09-23:12:56]\tSelected top 10 most common features for final model.\n",
      "[2025/09/09-23:12:56]\tOuter Fold 5 completed. Main Metric (mcc):\t0.1942\n",
      "[2025/09/09-23:12:56] All Nested CV results saved to /home/cotsios/dsit/2nd-semester/algos-in-struct-bio/project/MLtopKin/results/SVC_nested_cv_results_20250909-231256.json\n",
      "[2025/09/09-23:12:56] Summarizing results...\n",
      "\n",
      "--- Summary of Nested CV Results (SVC) ---\n",
      "Primary Metric (mcc):\n",
      "mean      0.159939\n",
      "median    0.163699\n",
      "std       0.036145\n",
      "\n",
      "--- Round-wise Metrics (Median) ---\n",
      "round\n",
      "0    0.171361\n",
      "1    0.163699\n",
      "2    0.168933\n",
      "3    0.136839\n",
      "4    0.152175\n",
      "\n",
      "--- Top 10 Global Feature Selection Frequencies ---\n",
      "[(np.int64(731), 57), (np.int64(712), 44), (np.int64(711), 28), (np.int64(781), 25), (np.int64(730), 24), (np.int64(713), 23), (np.int64(750), 21), (np.int64(732), 16), (np.int64(782), 15), (np.int64(696), 14)]\n",
      "[2025/09/09-23:12:57] Summary results saved to /home/cotsios/dsit/2nd-semester/algos-in-struct-bio/project/MLtopKin/results/SVC_summary_results_20250909-231256.csv\n",
      "--------------------------------------------------\n",
      "              RandomForestClassifier              \n",
      "--------------------------------------------------\n",
      "\n",
      "[2025/09/09-23:12:57] Starting Nested CV for RandomForestClassifier...\n",
      "[2025/09/09-23:12:57] Starting Round 1/5...\n",
      "[2025/09/09-23:12:57]\tOuter Fold 1/5...\n"
     ]
    },
    {
     "data": {
      "application/vnd.jupyter.widget-view+json": {
       "model_id": "d072a549be514cab892e67c0f9bd6fc0",
       "version_major": 2,
       "version_minor": 0
      },
      "text/plain": [
       "  0%|          | 0/50 [00:00<?, ?it/s]"
      ]
     },
     "metadata": {},
     "output_type": "display_data"
    },
    {
     "name": "stdout",
     "output_type": "stream",
     "text": [
      "[2025/09/09-23:14:49]\tSelected top 10 most common features for final model.\n",
      "[2025/09/09-23:14:49]\tOuter Fold 1 completed. Main Metric (mcc):\t0.1417\n",
      "[2025/09/09-23:14:49]\tOuter Fold 2/5...\n"
     ]
    },
    {
     "data": {
      "application/vnd.jupyter.widget-view+json": {
       "model_id": "c72f7607127141bba1a2b7f72bba69a1",
       "version_major": 2,
       "version_minor": 0
      },
      "text/plain": [
       "  0%|          | 0/50 [00:00<?, ?it/s]"
      ]
     },
     "metadata": {},
     "output_type": "display_data"
    },
    {
     "name": "stdout",
     "output_type": "stream",
     "text": [
      "[2025/09/09-23:16:41]\tSelected top 10 most common features for final model.\n",
      "[2025/09/09-23:16:42]\tOuter Fold 2 completed. Main Metric (mcc):\t0.2209\n",
      "[2025/09/09-23:16:42]\tOuter Fold 3/5...\n"
     ]
    },
    {
     "data": {
      "application/vnd.jupyter.widget-view+json": {
       "model_id": "05575e88f8124fad82a8271e76cc74e8",
       "version_major": 2,
       "version_minor": 0
      },
      "text/plain": [
       "  0%|          | 0/50 [00:00<?, ?it/s]"
      ]
     },
     "metadata": {},
     "output_type": "display_data"
    },
    {
     "name": "stdout",
     "output_type": "stream",
     "text": [
      "[2025/09/09-23:18:39]\tSelected top 10 most common features for final model.\n",
      "[2025/09/09-23:18:39]\tOuter Fold 3 completed. Main Metric (mcc):\t0.2094\n",
      "[2025/09/09-23:18:39]\tOuter Fold 4/5...\n"
     ]
    },
    {
     "data": {
      "application/vnd.jupyter.widget-view+json": {
       "model_id": "29aabe332c57425fb415029f6c97e63e",
       "version_major": 2,
       "version_minor": 0
      },
      "text/plain": [
       "  0%|          | 0/50 [00:00<?, ?it/s]"
      ]
     },
     "metadata": {},
     "output_type": "display_data"
    },
    {
     "name": "stdout",
     "output_type": "stream",
     "text": [
      "[2025/09/09-23:20:38]\tSelected top 10 most common features for final model.\n",
      "[2025/09/09-23:20:38]\tOuter Fold 4 completed. Main Metric (mcc):\t0.2092\n",
      "[2025/09/09-23:20:38]\tOuter Fold 5/5...\n"
     ]
    },
    {
     "data": {
      "application/vnd.jupyter.widget-view+json": {
       "model_id": "42d993b95f8747958507f030995ca3b9",
       "version_major": 2,
       "version_minor": 0
      },
      "text/plain": [
       "  0%|          | 0/50 [00:00<?, ?it/s]"
      ]
     },
     "metadata": {},
     "output_type": "display_data"
    },
    {
     "name": "stdout",
     "output_type": "stream",
     "text": [
      "[2025/09/09-23:22:34]\tSelected top 10 most common features for final model.\n",
      "[2025/09/09-23:22:35]\tOuter Fold 5 completed. Main Metric (mcc):\t0.1979\n",
      "[2025/09/09-23:22:35] Starting Round 2/5...\n",
      "[2025/09/09-23:22:35]\tOuter Fold 1/5...\n"
     ]
    },
    {
     "data": {
      "application/vnd.jupyter.widget-view+json": {
       "model_id": "1ac8e1fd63324e0a8c6ba1d561bb7aa1",
       "version_major": 2,
       "version_minor": 0
      },
      "text/plain": [
       "  0%|          | 0/50 [00:00<?, ?it/s]"
      ]
     },
     "metadata": {},
     "output_type": "display_data"
    },
    {
     "name": "stdout",
     "output_type": "stream",
     "text": [
      "[2025/09/09-23:24:31]\tSelected top 10 most common features for final model.\n",
      "[2025/09/09-23:24:32]\tOuter Fold 1 completed. Main Metric (mcc):\t0.1264\n",
      "[2025/09/09-23:24:32]\tOuter Fold 2/5...\n"
     ]
    },
    {
     "data": {
      "application/vnd.jupyter.widget-view+json": {
       "model_id": "e2e6d29b5afe49ad9640fd346503bb1c",
       "version_major": 2,
       "version_minor": 0
      },
      "text/plain": [
       "  0%|          | 0/50 [00:00<?, ?it/s]"
      ]
     },
     "metadata": {},
     "output_type": "display_data"
    },
    {
     "name": "stdout",
     "output_type": "stream",
     "text": [
      "[2025/09/09-23:26:29]\tSelected top 10 most common features for final model.\n",
      "[2025/09/09-23:26:29]\tOuter Fold 2 completed. Main Metric (mcc):\t0.1710\n",
      "[2025/09/09-23:26:29]\tOuter Fold 3/5...\n"
     ]
    },
    {
     "data": {
      "application/vnd.jupyter.widget-view+json": {
       "model_id": "35c9ecd06301491d9e4c202b523524c2",
       "version_major": 2,
       "version_minor": 0
      },
      "text/plain": [
       "  0%|          | 0/50 [00:00<?, ?it/s]"
      ]
     },
     "metadata": {},
     "output_type": "display_data"
    },
    {
     "name": "stdout",
     "output_type": "stream",
     "text": [
      "[2025/09/09-23:28:26]\tSelected top 10 most common features for final model.\n",
      "[2025/09/09-23:28:26]\tOuter Fold 3 completed. Main Metric (mcc):\t0.2439\n",
      "[2025/09/09-23:28:26]\tOuter Fold 4/5...\n"
     ]
    },
    {
     "data": {
      "application/vnd.jupyter.widget-view+json": {
       "model_id": "f0e29f2f26f346cd90c92aa46dfed801",
       "version_major": 2,
       "version_minor": 0
      },
      "text/plain": [
       "  0%|          | 0/50 [00:00<?, ?it/s]"
      ]
     },
     "metadata": {},
     "output_type": "display_data"
    },
    {
     "name": "stdout",
     "output_type": "stream",
     "text": [
      "[2025/09/09-23:30:26]\tSelected top 10 most common features for final model.\n",
      "[2025/09/09-23:30:27]\tOuter Fold 4 completed. Main Metric (mcc):\t0.2031\n",
      "[2025/09/09-23:30:27]\tOuter Fold 5/5...\n"
     ]
    },
    {
     "data": {
      "application/vnd.jupyter.widget-view+json": {
       "model_id": "91212ef7023743c1ac625c42643da1d4",
       "version_major": 2,
       "version_minor": 0
      },
      "text/plain": [
       "  0%|          | 0/50 [00:00<?, ?it/s]"
      ]
     },
     "metadata": {},
     "output_type": "display_data"
    },
    {
     "name": "stdout",
     "output_type": "stream",
     "text": [
      "[2025/09/09-23:32:25]\tSelected top 10 most common features for final model.\n",
      "[2025/09/09-23:32:26]\tOuter Fold 5 completed. Main Metric (mcc):\t0.1711\n",
      "[2025/09/09-23:32:26] Starting Round 3/5...\n",
      "[2025/09/09-23:32:26]\tOuter Fold 1/5...\n"
     ]
    },
    {
     "data": {
      "application/vnd.jupyter.widget-view+json": {
       "model_id": "63db0f60bd2b4d94ae3f8f0f3c5233ae",
       "version_major": 2,
       "version_minor": 0
      },
      "text/plain": [
       "  0%|          | 0/50 [00:00<?, ?it/s]"
      ]
     },
     "metadata": {},
     "output_type": "display_data"
    },
    {
     "name": "stdout",
     "output_type": "stream",
     "text": [
      "[2025/09/09-23:34:21]\tSelected top 10 most common features for final model.\n",
      "[2025/09/09-23:34:21]\tOuter Fold 1 completed. Main Metric (mcc):\t0.1418\n",
      "[2025/09/09-23:34:21]\tOuter Fold 2/5...\n"
     ]
    },
    {
     "data": {
      "application/vnd.jupyter.widget-view+json": {
       "model_id": "5ff34703d512449da3af8cd6ff63fae8",
       "version_major": 2,
       "version_minor": 0
      },
      "text/plain": [
       "  0%|          | 0/50 [00:00<?, ?it/s]"
      ]
     },
     "metadata": {},
     "output_type": "display_data"
    },
    {
     "name": "stdout",
     "output_type": "stream",
     "text": [
      "[2025/09/09-23:36:16]\tSelected top 10 most common features for final model.\n",
      "[2025/09/09-23:36:17]\tOuter Fold 2 completed. Main Metric (mcc):\t0.2515\n",
      "[2025/09/09-23:36:17]\tOuter Fold 3/5...\n"
     ]
    },
    {
     "data": {
      "application/vnd.jupyter.widget-view+json": {
       "model_id": "d6c33d5fc29e4bc7b277073da5bc1839",
       "version_major": 2,
       "version_minor": 0
      },
      "text/plain": [
       "  0%|          | 0/50 [00:00<?, ?it/s]"
      ]
     },
     "metadata": {},
     "output_type": "display_data"
    },
    {
     "name": "stdout",
     "output_type": "stream",
     "text": [
      "[2025/09/09-23:38:12]\tSelected top 10 most common features for final model.\n",
      "[2025/09/09-23:38:13]\tOuter Fold 3 completed. Main Metric (mcc):\t0.1786\n",
      "[2025/09/09-23:38:13]\tOuter Fold 4/5...\n"
     ]
    },
    {
     "data": {
      "application/vnd.jupyter.widget-view+json": {
       "model_id": "99d9e61a71ba4d889646da7b38f0d7cb",
       "version_major": 2,
       "version_minor": 0
      },
      "text/plain": [
       "  0%|          | 0/50 [00:00<?, ?it/s]"
      ]
     },
     "metadata": {},
     "output_type": "display_data"
    },
    {
     "name": "stdout",
     "output_type": "stream",
     "text": [
      "[2025/09/09-23:40:06]\tSelected top 10 most common features for final model.\n",
      "[2025/09/09-23:40:07]\tOuter Fold 4 completed. Main Metric (mcc):\t0.1286\n",
      "[2025/09/09-23:40:07]\tOuter Fold 5/5...\n"
     ]
    },
    {
     "data": {
      "application/vnd.jupyter.widget-view+json": {
       "model_id": "a5d667c8c7e94b23b464ee775fa0e20d",
       "version_major": 2,
       "version_minor": 0
      },
      "text/plain": [
       "  0%|          | 0/50 [00:00<?, ?it/s]"
      ]
     },
     "metadata": {},
     "output_type": "display_data"
    },
    {
     "name": "stdout",
     "output_type": "stream",
     "text": [
      "[2025/09/09-23:42:01]\tSelected top 10 most common features for final model.\n",
      "[2025/09/09-23:42:01]\tOuter Fold 5 completed. Main Metric (mcc):\t0.2057\n",
      "[2025/09/09-23:42:01] Starting Round 4/5...\n",
      "[2025/09/09-23:42:01]\tOuter Fold 1/5...\n"
     ]
    },
    {
     "data": {
      "application/vnd.jupyter.widget-view+json": {
       "model_id": "0abdede18e8a4281ac85542b277789ac",
       "version_major": 2,
       "version_minor": 0
      },
      "text/plain": [
       "  0%|          | 0/50 [00:00<?, ?it/s]"
      ]
     },
     "metadata": {},
     "output_type": "display_data"
    },
    {
     "name": "stdout",
     "output_type": "stream",
     "text": [
      "[2025/09/09-23:43:55]\tSelected top 10 most common features for final model.\n",
      "[2025/09/09-23:43:55]\tOuter Fold 1 completed. Main Metric (mcc):\t0.2529\n",
      "[2025/09/09-23:43:55]\tOuter Fold 2/5...\n"
     ]
    },
    {
     "data": {
      "application/vnd.jupyter.widget-view+json": {
       "model_id": "1c080298992a41d5a635241e35ef32ef",
       "version_major": 2,
       "version_minor": 0
      },
      "text/plain": [
       "  0%|          | 0/50 [00:00<?, ?it/s]"
      ]
     },
     "metadata": {},
     "output_type": "display_data"
    },
    {
     "name": "stdout",
     "output_type": "stream",
     "text": [
      "[2025/09/09-23:45:47]\tSelected top 10 most common features for final model.\n",
      "[2025/09/09-23:45:48]\tOuter Fold 2 completed. Main Metric (mcc):\t0.1555\n",
      "[2025/09/09-23:45:48]\tOuter Fold 3/5...\n"
     ]
    },
    {
     "data": {
      "application/vnd.jupyter.widget-view+json": {
       "model_id": "dafcf50a5d3c475597c2ad3a9dcb6774",
       "version_major": 2,
       "version_minor": 0
      },
      "text/plain": [
       "  0%|          | 0/50 [00:00<?, ?it/s]"
      ]
     },
     "metadata": {},
     "output_type": "display_data"
    },
    {
     "name": "stdout",
     "output_type": "stream",
     "text": [
      "[2025/09/09-23:47:42]\tSelected top 10 most common features for final model.\n",
      "[2025/09/09-23:47:43]\tOuter Fold 3 completed. Main Metric (mcc):\t0.1832\n",
      "[2025/09/09-23:47:43]\tOuter Fold 4/5...\n"
     ]
    },
    {
     "data": {
      "application/vnd.jupyter.widget-view+json": {
       "model_id": "6a3ee81c6d5d4798b7a1ed1af2b62624",
       "version_major": 2,
       "version_minor": 0
      },
      "text/plain": [
       "  0%|          | 0/50 [00:00<?, ?it/s]"
      ]
     },
     "metadata": {},
     "output_type": "display_data"
    },
    {
     "name": "stdout",
     "output_type": "stream",
     "text": [
      "[2025/09/09-23:49:37]\tSelected top 10 most common features for final model.\n",
      "[2025/09/09-23:49:37]\tOuter Fold 4 completed. Main Metric (mcc):\t0.1094\n",
      "[2025/09/09-23:49:37]\tOuter Fold 5/5...\n"
     ]
    },
    {
     "data": {
      "application/vnd.jupyter.widget-view+json": {
       "model_id": "27dcabe6995d43acac704e2e02ba42db",
       "version_major": 2,
       "version_minor": 0
      },
      "text/plain": [
       "  0%|          | 0/50 [00:00<?, ?it/s]"
      ]
     },
     "metadata": {},
     "output_type": "display_data"
    },
    {
     "name": "stdout",
     "output_type": "stream",
     "text": [
      "[2025/09/09-23:51:31]\tSelected top 10 most common features for final model.\n",
      "[2025/09/09-23:51:32]\tOuter Fold 5 completed. Main Metric (mcc):\t0.1325\n",
      "[2025/09/09-23:51:32] Starting Round 5/5...\n",
      "[2025/09/09-23:51:32]\tOuter Fold 1/5...\n"
     ]
    },
    {
     "data": {
      "application/vnd.jupyter.widget-view+json": {
       "model_id": "94150d0515ef4f2d8293853f980304b4",
       "version_major": 2,
       "version_minor": 0
      },
      "text/plain": [
       "  0%|          | 0/50 [00:00<?, ?it/s]"
      ]
     },
     "metadata": {},
     "output_type": "display_data"
    },
    {
     "name": "stdout",
     "output_type": "stream",
     "text": [
      "[2025/09/09-23:53:28]\tSelected top 10 most common features for final model.\n",
      "[2025/09/09-23:53:28]\tOuter Fold 1 completed. Main Metric (mcc):\t0.1920\n",
      "[2025/09/09-23:53:28]\tOuter Fold 2/5...\n"
     ]
    },
    {
     "data": {
      "application/vnd.jupyter.widget-view+json": {
       "model_id": "37fb99bc883a4f4a9368e9287d666483",
       "version_major": 2,
       "version_minor": 0
      },
      "text/plain": [
       "  0%|          | 0/50 [00:00<?, ?it/s]"
      ]
     },
     "metadata": {},
     "output_type": "display_data"
    },
    {
     "name": "stdout",
     "output_type": "stream",
     "text": [
      "[2025/09/09-23:55:22]\tSelected top 10 most common features for final model.\n",
      "[2025/09/09-23:55:22]\tOuter Fold 2 completed. Main Metric (mcc):\t0.1999\n",
      "[2025/09/09-23:55:22]\tOuter Fold 3/5...\n"
     ]
    },
    {
     "data": {
      "application/vnd.jupyter.widget-view+json": {
       "model_id": "b706db6bafc74f7eb09ac71ad0f1858d",
       "version_major": 2,
       "version_minor": 0
      },
      "text/plain": [
       "  0%|          | 0/50 [00:00<?, ?it/s]"
      ]
     },
     "metadata": {},
     "output_type": "display_data"
    },
    {
     "name": "stdout",
     "output_type": "stream",
     "text": [
      "[2025/09/09-23:57:18]\tSelected top 10 most common features for final model.\n",
      "[2025/09/09-23:57:18]\tOuter Fold 3 completed. Main Metric (mcc):\t0.1056\n",
      "[2025/09/09-23:57:18]\tOuter Fold 4/5...\n"
     ]
    },
    {
     "data": {
      "application/vnd.jupyter.widget-view+json": {
       "model_id": "0d78d79fa46c4afcbdb00b6aba2299aa",
       "version_major": 2,
       "version_minor": 0
      },
      "text/plain": [
       "  0%|          | 0/50 [00:00<?, ?it/s]"
      ]
     },
     "metadata": {},
     "output_type": "display_data"
    },
    {
     "name": "stdout",
     "output_type": "stream",
     "text": [
      "[2025/09/09-23:59:11]\tSelected top 10 most common features for final model.\n",
      "[2025/09/09-23:59:12]\tOuter Fold 4 completed. Main Metric (mcc):\t0.2554\n",
      "[2025/09/09-23:59:12]\tOuter Fold 5/5...\n"
     ]
    },
    {
     "data": {
      "application/vnd.jupyter.widget-view+json": {
       "model_id": "6184962144564f338454ac6b38e8fc75",
       "version_major": 2,
       "version_minor": 0
      },
      "text/plain": [
       "  0%|          | 0/50 [00:00<?, ?it/s]"
      ]
     },
     "metadata": {},
     "output_type": "display_data"
    },
    {
     "name": "stdout",
     "output_type": "stream",
     "text": [
      "[2025/09/10-00:01:07]\tSelected top 10 most common features for final model.\n",
      "[2025/09/10-00:01:07]\tOuter Fold 5 completed. Main Metric (mcc):\t0.2208\n",
      "[2025/09/10-00:01:07] All Nested CV results saved to /home/cotsios/dsit/2nd-semester/algos-in-struct-bio/project/MLtopKin/results/RandomForestClassifier_nested_cv_results_20250910-000107.json\n",
      "[2025/09/10-00:01:07] Summarizing results...\n",
      "\n",
      "--- Summary of Nested CV Results (RandomForestClassifier) ---\n",
      "Primary Metric (mcc):\n",
      "mean      0.184316\n",
      "median    0.191951\n",
      "std       0.045094\n",
      "\n",
      "--- Round-wise Metrics (Median) ---\n",
      "round\n",
      "0    0.209231\n",
      "1    0.171077\n",
      "2    0.178617\n",
      "3    0.155484\n",
      "4    0.199945\n",
      "\n",
      "--- Top 10 Global Feature Selection Frequencies ---\n",
      "[(np.int64(731), 57), (np.int64(712), 44), (np.int64(711), 28), (np.int64(781), 25), (np.int64(730), 24), (np.int64(713), 23), (np.int64(750), 21), (np.int64(732), 16), (np.int64(782), 15), (np.int64(696), 14)]\n",
      "[2025/09/10-00:01:07] Summary results saved to /home/cotsios/dsit/2nd-semester/algos-in-struct-bio/project/MLtopKin/results/RandomForestClassifier_summary_results_20250910-000107.csv\n",
      "--------------------------------------------------\n",
      "                  LGBMClassifier                  \n",
      "--------------------------------------------------\n",
      "\n",
      "[2025/09/10-00:01:07] Starting Nested CV for LGBMClassifier...\n",
      "[2025/09/10-00:01:07] Starting Round 1/5...\n",
      "[2025/09/10-00:01:07]\tOuter Fold 1/5...\n"
     ]
    },
    {
     "data": {
      "application/vnd.jupyter.widget-view+json": {
       "model_id": "e3fcf6aca9124f37b145c4789509323c",
       "version_major": 2,
       "version_minor": 0
      },
      "text/plain": [
       "  0%|          | 0/50 [00:00<?, ?it/s]"
      ]
     },
     "metadata": {},
     "output_type": "display_data"
    },
    {
     "name": "stdout",
     "output_type": "stream",
     "text": [
      "[2025/09/10-00:03:11]\tSelected top 10 most common features for final model.\n",
      "[2025/09/10-00:03:11]\tOuter Fold 1 completed. Main Metric (mcc):\t0.1793\n",
      "[2025/09/10-00:03:11]\tOuter Fold 2/5...\n"
     ]
    },
    {
     "data": {
      "application/vnd.jupyter.widget-view+json": {
       "model_id": "0c5433ac6f494c95b2e49db7d35d376c",
       "version_major": 2,
       "version_minor": 0
      },
      "text/plain": [
       "  0%|          | 0/50 [00:00<?, ?it/s]"
      ]
     },
     "metadata": {},
     "output_type": "display_data"
    },
    {
     "name": "stdout",
     "output_type": "stream",
     "text": [
      "[2025/09/10-00:05:45]\tSelected top 10 most common features for final model.\n",
      "[2025/09/10-00:05:45]\tOuter Fold 2 completed. Main Metric (mcc):\t0.2063\n",
      "[2025/09/10-00:05:45]\tOuter Fold 3/5...\n"
     ]
    },
    {
     "data": {
      "application/vnd.jupyter.widget-view+json": {
       "model_id": "4a52c8ba6e5c483d82e30ad757624d87",
       "version_major": 2,
       "version_minor": 0
      },
      "text/plain": [
       "  0%|          | 0/50 [00:00<?, ?it/s]"
      ]
     },
     "metadata": {},
     "output_type": "display_data"
    },
    {
     "name": "stdout",
     "output_type": "stream",
     "text": [
      "[2025/09/10-00:08:55]\tSelected top 10 most common features for final model.\n",
      "[2025/09/10-00:08:57]\tOuter Fold 3 completed. Main Metric (mcc):\t0.2778\n",
      "[2025/09/10-00:08:57]\tOuter Fold 4/5...\n"
     ]
    },
    {
     "data": {
      "application/vnd.jupyter.widget-view+json": {
       "model_id": "a8006ab27343492793db40d7bad5212d",
       "version_major": 2,
       "version_minor": 0
      },
      "text/plain": [
       "  0%|          | 0/50 [00:00<?, ?it/s]"
      ]
     },
     "metadata": {},
     "output_type": "display_data"
    },
    {
     "name": "stdout",
     "output_type": "stream",
     "text": [
      "[2025/09/10-00:10:54]\tSelected top 10 most common features for final model.\n",
      "[2025/09/10-00:10:54]\tOuter Fold 4 completed. Main Metric (mcc):\t0.1517\n",
      "[2025/09/10-00:10:54]\tOuter Fold 5/5...\n"
     ]
    },
    {
     "data": {
      "application/vnd.jupyter.widget-view+json": {
       "model_id": "b6c2d1bd4a5047c993779b37652594f6",
       "version_major": 2,
       "version_minor": 0
      },
      "text/plain": [
       "  0%|          | 0/50 [00:00<?, ?it/s]"
      ]
     },
     "metadata": {},
     "output_type": "display_data"
    },
    {
     "name": "stdout",
     "output_type": "stream",
     "text": [
      "[2025/09/10-00:12:50]\tSelected top 10 most common features for final model.\n",
      "[2025/09/10-00:12:50]\tOuter Fold 5 completed. Main Metric (mcc):\t0.1410\n",
      "[2025/09/10-00:12:50] Starting Round 2/5...\n",
      "[2025/09/10-00:12:50]\tOuter Fold 1/5...\n"
     ]
    },
    {
     "data": {
      "application/vnd.jupyter.widget-view+json": {
       "model_id": "47032b76d9fa48519335acff9c0975cb",
       "version_major": 2,
       "version_minor": 0
      },
      "text/plain": [
       "  0%|          | 0/50 [00:00<?, ?it/s]"
      ]
     },
     "metadata": {},
     "output_type": "display_data"
    },
    {
     "name": "stdout",
     "output_type": "stream",
     "text": [
      "[2025/09/10-00:15:35]\tSelected top 10 most common features for final model.\n",
      "[2025/09/10-00:15:36]\tOuter Fold 1 completed. Main Metric (mcc):\t0.1765\n",
      "[2025/09/10-00:15:36]\tOuter Fold 2/5...\n"
     ]
    },
    {
     "data": {
      "application/vnd.jupyter.widget-view+json": {
       "model_id": "25cd70b5fb8c4491bb2107f6f6ace525",
       "version_major": 2,
       "version_minor": 0
      },
      "text/plain": [
       "  0%|          | 0/50 [00:00<?, ?it/s]"
      ]
     },
     "metadata": {},
     "output_type": "display_data"
    },
    {
     "name": "stdout",
     "output_type": "stream",
     "text": [
      "[2025/09/10-00:17:51]\tSelected top 10 most common features for final model.\n",
      "[2025/09/10-00:17:51]\tOuter Fold 2 completed. Main Metric (mcc):\t0.1523\n",
      "[2025/09/10-00:17:51]\tOuter Fold 3/5...\n"
     ]
    },
    {
     "data": {
      "application/vnd.jupyter.widget-view+json": {
       "model_id": "c425d17b7b6e44e6abc2c9def76c32ec",
       "version_major": 2,
       "version_minor": 0
      },
      "text/plain": [
       "  0%|          | 0/50 [00:00<?, ?it/s]"
      ]
     },
     "metadata": {},
     "output_type": "display_data"
    },
    {
     "name": "stdout",
     "output_type": "stream",
     "text": [
      "[2025/09/10-00:20:15]\tSelected top 10 most common features for final model.\n",
      "[2025/09/10-00:20:15]\tOuter Fold 3 completed. Main Metric (mcc):\t0.2323\n",
      "[2025/09/10-00:20:15]\tOuter Fold 4/5...\n"
     ]
    },
    {
     "data": {
      "application/vnd.jupyter.widget-view+json": {
       "model_id": "c29d2f6e24c841a9a8bf17f8fd8505f7",
       "version_major": 2,
       "version_minor": 0
      },
      "text/plain": [
       "  0%|          | 0/50 [00:00<?, ?it/s]"
      ]
     },
     "metadata": {},
     "output_type": "display_data"
    },
    {
     "name": "stdout",
     "output_type": "stream",
     "text": [
      "[2025/09/10-00:23:13]\tSelected top 10 most common features for final model.\n",
      "[2025/09/10-00:23:14]\tOuter Fold 4 completed. Main Metric (mcc):\t0.2042\n",
      "[2025/09/10-00:23:14]\tOuter Fold 5/5...\n"
     ]
    },
    {
     "data": {
      "application/vnd.jupyter.widget-view+json": {
       "model_id": "702a58cbd5584d6c94d55e07204993c3",
       "version_major": 2,
       "version_minor": 0
      },
      "text/plain": [
       "  0%|          | 0/50 [00:00<?, ?it/s]"
      ]
     },
     "metadata": {},
     "output_type": "display_data"
    },
    {
     "name": "stdout",
     "output_type": "stream",
     "text": [
      "[2025/09/10-00:25:22]\tSelected top 10 most common features for final model.\n",
      "[2025/09/10-00:25:22]\tOuter Fold 5 completed. Main Metric (mcc):\t0.1781\n",
      "[2025/09/10-00:25:22] Starting Round 3/5...\n",
      "[2025/09/10-00:25:22]\tOuter Fold 1/5...\n"
     ]
    },
    {
     "data": {
      "application/vnd.jupyter.widget-view+json": {
       "model_id": "5782d51c18ed475cbac5bc99c2f5892b",
       "version_major": 2,
       "version_minor": 0
      },
      "text/plain": [
       "  0%|          | 0/50 [00:00<?, ?it/s]"
      ]
     },
     "metadata": {},
     "output_type": "display_data"
    },
    {
     "name": "stdout",
     "output_type": "stream",
     "text": [
      "[2025/09/10-00:27:25]\tSelected top 10 most common features for final model.\n",
      "[2025/09/10-00:27:25]\tOuter Fold 1 completed. Main Metric (mcc):\t0.1763\n",
      "[2025/09/10-00:27:25]\tOuter Fold 2/5...\n"
     ]
    },
    {
     "data": {
      "application/vnd.jupyter.widget-view+json": {
       "model_id": "fa6b473061e041dbae6ea22700fe75ec",
       "version_major": 2,
       "version_minor": 0
      },
      "text/plain": [
       "  0%|          | 0/50 [00:00<?, ?it/s]"
      ]
     },
     "metadata": {},
     "output_type": "display_data"
    },
    {
     "name": "stdout",
     "output_type": "stream",
     "text": [
      "[2025/09/10-00:29:47]\tSelected top 10 most common features for final model.\n",
      "[2025/09/10-00:29:47]\tOuter Fold 2 completed. Main Metric (mcc):\t0.1638\n",
      "[2025/09/10-00:29:47]\tOuter Fold 3/5...\n"
     ]
    },
    {
     "data": {
      "application/vnd.jupyter.widget-view+json": {
       "model_id": "15015d93c11a4dafa06d4bc83968546d",
       "version_major": 2,
       "version_minor": 0
      },
      "text/plain": [
       "  0%|          | 0/50 [00:00<?, ?it/s]"
      ]
     },
     "metadata": {},
     "output_type": "display_data"
    },
    {
     "name": "stdout",
     "output_type": "stream",
     "text": [
      "[2025/09/10-00:32:01]\tSelected top 10 most common features for final model.\n",
      "[2025/09/10-00:32:02]\tOuter Fold 3 completed. Main Metric (mcc):\t0.1716\n",
      "[2025/09/10-00:32:02]\tOuter Fold 4/5...\n"
     ]
    },
    {
     "data": {
      "application/vnd.jupyter.widget-view+json": {
       "model_id": "8fabebe90a2a40c0b9df87871bcaab2c",
       "version_major": 2,
       "version_minor": 0
      },
      "text/plain": [
       "  0%|          | 0/50 [00:00<?, ?it/s]"
      ]
     },
     "metadata": {},
     "output_type": "display_data"
    },
    {
     "name": "stdout",
     "output_type": "stream",
     "text": [
      "[2025/09/10-00:34:23]\tSelected top 10 most common features for final model.\n",
      "[2025/09/10-00:34:24]\tOuter Fold 4 completed. Main Metric (mcc):\t0.1596\n",
      "[2025/09/10-00:34:24]\tOuter Fold 5/5...\n"
     ]
    },
    {
     "data": {
      "application/vnd.jupyter.widget-view+json": {
       "model_id": "79a44c1674f043eb9e9514d0593d8db7",
       "version_major": 2,
       "version_minor": 0
      },
      "text/plain": [
       "  0%|          | 0/50 [00:00<?, ?it/s]"
      ]
     },
     "metadata": {},
     "output_type": "display_data"
    },
    {
     "name": "stdout",
     "output_type": "stream",
     "text": [
      "[2025/09/10-00:36:50]\tSelected top 10 most common features for final model.\n",
      "[2025/09/10-00:36:50]\tOuter Fold 5 completed. Main Metric (mcc):\t0.1947\n",
      "[2025/09/10-00:36:50] Starting Round 4/5...\n",
      "[2025/09/10-00:36:50]\tOuter Fold 1/5...\n"
     ]
    },
    {
     "data": {
      "application/vnd.jupyter.widget-view+json": {
       "model_id": "4a595511893e4e459f678dd68908a535",
       "version_major": 2,
       "version_minor": 0
      },
      "text/plain": [
       "  0%|          | 0/50 [00:00<?, ?it/s]"
      ]
     },
     "metadata": {},
     "output_type": "display_data"
    },
    {
     "name": "stdout",
     "output_type": "stream",
     "text": [
      "[2025/09/10-00:39:44]\tSelected top 10 most common features for final model.\n",
      "[2025/09/10-00:39:44]\tOuter Fold 1 completed. Main Metric (mcc):\t0.2225\n",
      "[2025/09/10-00:39:44]\tOuter Fold 2/5...\n"
     ]
    },
    {
     "data": {
      "application/vnd.jupyter.widget-view+json": {
       "model_id": "b9dc3f33aaed4244b45f8e7a4c098366",
       "version_major": 2,
       "version_minor": 0
      },
      "text/plain": [
       "  0%|          | 0/50 [00:00<?, ?it/s]"
      ]
     },
     "metadata": {},
     "output_type": "display_data"
    },
    {
     "name": "stdout",
     "output_type": "stream",
     "text": [
      "[2025/09/10-00:42:19]\tSelected top 10 most common features for final model.\n",
      "[2025/09/10-00:42:19]\tOuter Fold 2 completed. Main Metric (mcc):\t0.1645\n",
      "[2025/09/10-00:42:19]\tOuter Fold 3/5...\n"
     ]
    },
    {
     "data": {
      "application/vnd.jupyter.widget-view+json": {
       "model_id": "001aa2a2f52849f69daad7c10ee5666b",
       "version_major": 2,
       "version_minor": 0
      },
      "text/plain": [
       "  0%|          | 0/50 [00:00<?, ?it/s]"
      ]
     },
     "metadata": {},
     "output_type": "display_data"
    },
    {
     "name": "stdout",
     "output_type": "stream",
     "text": [
      "[2025/09/10-00:44:58]\tSelected top 10 most common features for final model.\n",
      "[2025/09/10-00:44:58]\tOuter Fold 3 completed. Main Metric (mcc):\t0.1479\n",
      "[2025/09/10-00:44:58]\tOuter Fold 4/5...\n"
     ]
    },
    {
     "data": {
      "application/vnd.jupyter.widget-view+json": {
       "model_id": "3aed0959c9a34fc6972d8955a6bc6c5b",
       "version_major": 2,
       "version_minor": 0
      },
      "text/plain": [
       "  0%|          | 0/50 [00:00<?, ?it/s]"
      ]
     },
     "metadata": {},
     "output_type": "display_data"
    },
    {
     "name": "stdout",
     "output_type": "stream",
     "text": [
      "[2025/09/10-00:47:14]\tSelected top 10 most common features for final model.\n",
      "[2025/09/10-00:47:14]\tOuter Fold 4 completed. Main Metric (mcc):\t0.0979\n",
      "[2025/09/10-00:47:14]\tOuter Fold 5/5...\n"
     ]
    },
    {
     "data": {
      "application/vnd.jupyter.widget-view+json": {
       "model_id": "12334e91b15e423880a7d545a3de59b2",
       "version_major": 2,
       "version_minor": 0
      },
      "text/plain": [
       "  0%|          | 0/50 [00:00<?, ?it/s]"
      ]
     },
     "metadata": {},
     "output_type": "display_data"
    },
    {
     "name": "stdout",
     "output_type": "stream",
     "text": [
      "[2025/09/10-00:49:44]\tSelected top 10 most common features for final model.\n",
      "[2025/09/10-00:49:45]\tOuter Fold 5 completed. Main Metric (mcc):\t0.1747\n",
      "[2025/09/10-00:49:45] Starting Round 5/5...\n",
      "[2025/09/10-00:49:45]\tOuter Fold 1/5...\n"
     ]
    },
    {
     "data": {
      "application/vnd.jupyter.widget-view+json": {
       "model_id": "80132ad1f2204235a9f1b8dde64bad1b",
       "version_major": 2,
       "version_minor": 0
      },
      "text/plain": [
       "  0%|          | 0/50 [00:00<?, ?it/s]"
      ]
     },
     "metadata": {},
     "output_type": "display_data"
    },
    {
     "name": "stdout",
     "output_type": "stream",
     "text": [
      "[2025/09/10-00:51:53]\tSelected top 10 most common features for final model.\n",
      "[2025/09/10-00:51:53]\tOuter Fold 1 completed. Main Metric (mcc):\t0.1418\n",
      "[2025/09/10-00:51:53]\tOuter Fold 2/5...\n"
     ]
    },
    {
     "data": {
      "application/vnd.jupyter.widget-view+json": {
       "model_id": "c9f51713aa3642b9a47a92f5beaa1116",
       "version_major": 2,
       "version_minor": 0
      },
      "text/plain": [
       "  0%|          | 0/50 [00:00<?, ?it/s]"
      ]
     },
     "metadata": {},
     "output_type": "display_data"
    },
    {
     "name": "stdout",
     "output_type": "stream",
     "text": [
      "[2025/09/10-00:54:13]\tSelected top 10 most common features for final model.\n",
      "[2025/09/10-00:54:14]\tOuter Fold 2 completed. Main Metric (mcc):\t0.1229\n",
      "[2025/09/10-00:54:14]\tOuter Fold 3/5...\n"
     ]
    },
    {
     "data": {
      "application/vnd.jupyter.widget-view+json": {
       "model_id": "fbb7739cefba4dfeac4a5ed853384dbc",
       "version_major": 2,
       "version_minor": 0
      },
      "text/plain": [
       "  0%|          | 0/50 [00:00<?, ?it/s]"
      ]
     },
     "metadata": {},
     "output_type": "display_data"
    },
    {
     "name": "stdout",
     "output_type": "stream",
     "text": [
      "[2025/09/10-00:56:51]\tSelected top 10 most common features for final model.\n",
      "[2025/09/10-00:56:51]\tOuter Fold 3 completed. Main Metric (mcc):\t0.0878\n",
      "[2025/09/10-00:56:51]\tOuter Fold 4/5...\n"
     ]
    },
    {
     "data": {
      "application/vnd.jupyter.widget-view+json": {
       "model_id": "a8da7a0e2183406f9fdfec12b402329d",
       "version_major": 2,
       "version_minor": 0
      },
      "text/plain": [
       "  0%|          | 0/50 [00:00<?, ?it/s]"
      ]
     },
     "metadata": {},
     "output_type": "display_data"
    },
    {
     "name": "stdout",
     "output_type": "stream",
     "text": [
      "[2025/09/10-00:59:38]\tSelected top 10 most common features for final model.\n",
      "[2025/09/10-00:59:38]\tOuter Fold 4 completed. Main Metric (mcc):\t0.2292\n",
      "[2025/09/10-00:59:38]\tOuter Fold 5/5...\n"
     ]
    },
    {
     "data": {
      "application/vnd.jupyter.widget-view+json": {
       "model_id": "a71b725dd200495ca875c78f4a22649c",
       "version_major": 2,
       "version_minor": 0
      },
      "text/plain": [
       "  0%|          | 0/50 [00:00<?, ?it/s]"
      ]
     },
     "metadata": {},
     "output_type": "display_data"
    },
    {
     "name": "stdout",
     "output_type": "stream",
     "text": [
      "[2025/09/10-01:02:42]\tSelected top 10 most common features for final model.\n",
      "[2025/09/10-01:02:43]\tOuter Fold 5 completed. Main Metric (mcc):\t0.2696\n",
      "[2025/09/10-01:02:43] All Nested CV results saved to /home/cotsios/dsit/2nd-semester/algos-in-struct-bio/project/MLtopKin/results/LGBMClassifier_nested_cv_results_20250910-010243.json\n",
      "[2025/09/10-01:02:43] Summarizing results...\n",
      "\n",
      "--- Summary of Nested CV Results (LGBMClassifier) ---\n",
      "Primary Metric (mcc):\n",
      "mean      0.176970\n",
      "median    0.174682\n",
      "std       0.046076\n",
      "\n",
      "--- Round-wise Metrics (Median) ---\n",
      "round\n",
      "0    0.179334\n",
      "1    0.178066\n",
      "2    0.171646\n",
      "3    0.164502\n",
      "4    0.141778\n",
      "\n",
      "--- Top 10 Global Feature Selection Frequencies ---\n",
      "[(np.int64(731), 57), (np.int64(712), 44), (np.int64(711), 28), (np.int64(781), 25), (np.int64(730), 24), (np.int64(713), 23), (np.int64(750), 21), (np.int64(732), 16), (np.int64(782), 15), (np.int64(696), 14)]\n",
      "[2025/09/10-01:02:43] Summary results saved to /home/cotsios/dsit/2nd-semester/algos-in-struct-bio/project/MLtopKin/results/LGBMClassifier_summary_results_20250910-010243.csv\n"
     ]
    }
   ],
   "source": [
    "for model in VALID_MODELS:\n",
    "    print(\"-\"*50)\n",
    "    print(f\"{model:^50}\")\n",
    "    print(\"-\"*50)\n",
    "    print()\n",
    "\n",
    "    complete_pipeline(\n",
    "        model, X, y, MODELS_DIR, RESULTS_DIR,\n",
    "        n_rounds=5, n_outers=5, n_inners=3, n_optuna_trials=50\n",
    "    )"
   ]
  }
 ],
 "metadata": {
  "kernelspec": {
   "display_name": ".venv",
   "language": "python",
   "name": "python3"
  },
  "language_info": {
   "codemirror_mode": {
    "name": "ipython",
    "version": 3
   },
   "file_extension": ".py",
   "mimetype": "text/x-python",
   "name": "python",
   "nbconvert_exporter": "python",
   "pygments_lexer": "ipython3",
   "version": "3.12.3"
  }
 },
 "nbformat": 4,
 "nbformat_minor": 5
}
