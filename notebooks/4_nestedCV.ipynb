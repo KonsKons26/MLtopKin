{
 "cells": [
  {
   "cell_type": "code",
   "execution_count": null,
   "id": "d1e0aa39",
   "metadata": {},
   "outputs": [],
   "source": [
    "import sys\n",
    "import os\n",
    "\n",
    "\n",
    "sys.path.append(os.path.abspath(os.path.join(os.getcwd(), \"..\")))\n",
    "print(sys.path[-1])"
   ]
  },
  {
   "cell_type": "code",
   "execution_count": null,
   "id": "5b41ee72",
   "metadata": {},
   "outputs": [],
   "source": [
    "BASE_DIR = os.path.dirname(os.getcwd())\n",
    "FEATURES_DIR = os.path.join(BASE_DIR, 'features')\n",
    "MODELS_DIR = os.path.join(BASE_DIR, 'models')\n",
    "RESULTS_DIR = os.path.join(BASE_DIR, 'results')\n",
    "\n",
    "os.makedirs(FEATURES_DIR, exist_ok=True)\n",
    "os.makedirs(MODELS_DIR, exist_ok=True)\n",
    "os.makedirs(RESULTS_DIR, exist_ok=True)\n",
    "\n",
    "print(BASE_DIR)\n",
    "print(FEATURES_DIR)\n",
    "print(MODELS_DIR)\n",
    "print(RESULTS_DIR)"
   ]
  },
  {
   "cell_type": "code",
   "execution_count": null,
   "id": "d20480f5",
   "metadata": {},
   "outputs": [],
   "source": [
    "import numpy as np\n",
    "import pandas as pd\n",
    "\n",
    "from src.nested_cv import complete_pipeline"
   ]
  },
  {
   "cell_type": "code",
   "execution_count": null,
   "id": "ad158a82",
   "metadata": {},
   "outputs": [],
   "source": [
    "VALID_MODELS = [\n",
    "    \"SVC\",\n",
    "    \"RandomForestClassifier\",\n",
    "    \"LGBMClassifier\",\n",
    "]"
   ]
  },
  {
   "cell_type": "code",
   "execution_count": null,
   "id": "f3982d53",
   "metadata": {},
   "outputs": [],
   "source": [
    "data = np.load(\n",
    "    os.path.join(FEATURES_DIR, 'kincore.npz'), allow_pickle=True\n",
    ")\n",
    "X, y, metadata = data['X'], data['y'], data['metadata']"
   ]
  },
  {
   "cell_type": "code",
   "execution_count": null,
   "id": "10f462c4",
   "metadata": {},
   "outputs": [],
   "source": [
    "X = pd.DataFrame(X)\n",
    "y = pd.Series(y, name='target')"
   ]
  },
  {
   "cell_type": "markdown",
   "id": "4ce6ac85",
   "metadata": {},
   "source": [
    "# The following takes around 160 minutes"
   ]
  },
  {
   "cell_type": "code",
   "execution_count": null,
   "id": "44b6ae49",
   "metadata": {},
   "outputs": [],
   "source": [
    "for model in VALID_MODELS:\n",
    "    print(\"-\"*50)\n",
    "    print(f\"{model:^50}\")\n",
    "    print(\"-\"*50)\n",
    "    print()\n",
    "\n",
    "    complete_pipeline(\n",
    "        model, X, y, MODELS_DIR, RESULTS_DIR,\n",
    "        n_rounds=5, n_outers=5, n_inners=3, n_optuna_trials=50\n",
    "    )"
   ]
  }
 ],
 "metadata": {
  "kernelspec": {
   "display_name": ".venv",
   "language": "python",
   "name": "python3"
  },
  "language_info": {
   "codemirror_mode": {
    "name": "ipython",
    "version": 3
   },
   "file_extension": ".py",
   "mimetype": "text/x-python",
   "name": "python",
   "nbconvert_exporter": "python",
   "pygments_lexer": "ipython3",
   "version": "3.12.3"
  }
 },
 "nbformat": 4,
 "nbformat_minor": 5
}
