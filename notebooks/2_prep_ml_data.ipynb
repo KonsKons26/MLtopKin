{
 "cells": [
  {
   "cell_type": "code",
   "execution_count": 1,
   "id": "54c41dc3",
   "metadata": {},
   "outputs": [
    {
     "name": "stdout",
     "output_type": "stream",
     "text": [
      "/home/cotsios/dsit/2nd-semester/algos-in-struct-bio/project/MLtopKin\n"
     ]
    }
   ],
   "source": [
    "import sys\n",
    "import os\n",
    "\n",
    "\n",
    "sys.path.append(os.path.abspath(os.path.join(os.getcwd(), \"..\")))\n",
    "print(sys.path[-1])"
   ]
  },
  {
   "cell_type": "code",
   "execution_count": 2,
   "id": "2bd32d8d",
   "metadata": {},
   "outputs": [],
   "source": [
    "import pandas as pd\n",
    "import numpy as np\n",
    "from src.utils import (\n",
    "    prep_kinase_data_list,\n",
    "    create_kinase_dataset,\n",
    "    extract_features_for_ml\n",
    ")"
   ]
  },
  {
   "cell_type": "code",
   "execution_count": 3,
   "id": "2fa14a71",
   "metadata": {},
   "outputs": [
    {
     "name": "stdout",
     "output_type": "stream",
     "text": [
      "/home/cotsios/dsit/2nd-semester/algos-in-struct-bio/project/MLtopKin\n",
      "/home/cotsios/dsit/2nd-semester/algos-in-struct-bio/project/MLtopKin/data\n",
      "/home/cotsios/dsit/2nd-semester/algos-in-struct-bio/project/MLtopKin/metadata\n",
      "/home/cotsios/dsit/2nd-semester/algos-in-struct-bio/project/MLtopKin/features\n"
     ]
    }
   ],
   "source": [
    "BASE_DIR = os.path.dirname(os.getcwd())\n",
    "DATA_DIR  = os.path.join(BASE_DIR, 'data')\n",
    "METADATA_DIR = os.path.join(BASE_DIR, 'metadata')\n",
    "FEATURES_DIR = os.path.join(BASE_DIR, 'features')\n",
    "\n",
    "os.makedirs(FEATURES_DIR, exist_ok=True)\n",
    "\n",
    "print(BASE_DIR)\n",
    "print(DATA_DIR)\n",
    "print(METADATA_DIR)\n",
    "print(FEATURES_DIR)"
   ]
  },
  {
   "cell_type": "code",
   "execution_count": 4,
   "id": "040b65aa",
   "metadata": {},
   "outputs": [
    {
     "data": {
      "application/vnd.microsoft.datawrangler.viewer.v0+json": {
       "columns": [
        {
         "name": "index",
         "rawType": "int64",
         "type": "integer"
        },
        {
         "name": "Organism",
         "rawType": "object",
         "type": "string"
        },
        {
         "name": "Group",
         "rawType": "object",
         "type": "string"
        },
        {
         "name": "Gene",
         "rawType": "object",
         "type": "string"
        },
        {
         "name": "UniprotID",
         "rawType": "object",
         "type": "string"
        },
        {
         "name": "PDB",
         "rawType": "object",
         "type": "string"
        },
        {
         "name": "Method",
         "rawType": "object",
         "type": "string"
        },
        {
         "name": "Resolution",
         "rawType": "float64",
         "type": "float"
        },
        {
         "name": "Rfac",
         "rawType": "float64",
         "type": "float"
        },
        {
         "name": "FreeRfac",
         "rawType": "float64",
         "type": "float"
        },
        {
         "name": "DomainBoundary",
         "rawType": "object",
         "type": "string"
        },
        {
         "name": "StructureBoundary",
         "rawType": "object",
         "type": "string"
        },
        {
         "name": "LengthActivationLoopSeq",
         "rawType": "int64",
         "type": "integer"
        },
        {
         "name": "LengthActivationLoopStr",
         "rawType": "int64",
         "type": "integer"
        },
        {
         "name": "DisorderedResiActivationLoop",
         "rawType": "int64",
         "type": "integer"
        },
        {
         "name": "SpatialLabel",
         "rawType": "object",
         "type": "string"
        },
        {
         "name": "DihedralLabel",
         "rawType": "object",
         "type": "string"
        },
        {
         "name": "ActivityLabel",
         "rawType": "object",
         "type": "string"
        },
        {
         "name": "Chelix-Saltbr",
         "rawType": "object",
         "type": "string"
        },
        {
         "name": "ActLoop",
         "rawType": "object",
         "type": "string"
        },
        {
         "name": "Ligand",
         "rawType": "object",
         "type": "string"
        },
        {
         "name": "LigandType",
         "rawType": "object",
         "type": "string"
        },
        {
         "name": "DFG_Phe",
         "rawType": "int64",
         "type": "integer"
        },
        {
         "name": "Phosphorylation",
         "rawType": "object",
         "type": "unknown"
        },
        {
         "name": "Mutations",
         "rawType": "object",
         "type": "unknown"
        },
        {
         "name": "ProteinName",
         "rawType": "object",
         "type": "string"
        }
       ],
       "ref": "c7b76b3d-9aa9-4465-bda2-f4e88ded181d",
       "rows": [
        [
         "0",
         "Aplysia californica",
         "CAMK",
         "TWITCHIN",
         "Q16980_APLCA",
         "1KOBA",
         "XRAY",
         "2.3",
         "0.2",
         "0.282",
         "47-302",
         "17-368",
         "27",
         "27",
         "0",
         "DFGin",
         "ABAminus",
         "Inactive",
         "out-out",
         "in-out",
         "No_ligand",
         "No_ligand",
         "189",
         null,
         null,
         "Twitchin-like protein"
        ],
        [
         "1",
         "Aplysia californica",
         "CAMK",
         "TWITCHIN",
         "Q16980_APLCA",
         "1KOBB",
         "XRAY",
         "2.3",
         "0.2",
         "0.282",
         "47-302",
         "17-368",
         "27",
         "27",
         "0",
         "DFGin",
         "ABAminus",
         "Inactive",
         "out-out",
         "in-out",
         "No_ligand",
         "No_ligand",
         "189",
         null,
         null,
         "Twitchin-like protein"
        ],
        [
         "2",
         "Arabidopsis thaliana",
         "CAMK",
         "CIPK23",
         "CIPKN_ARATH",
         "4CZTA",
         "XRAY",
         "2.3",
         "0.179",
         "0.234",
         "31-286",
         "25-315",
         "30",
         "30",
         "0",
         "DFGin",
         "BLBminus",
         "Inactive",
         "out-out",
         "out-out",
         "CPS:61316",
         "Type1",
         "173",
         null,
         null,
         "CBL-interacting serine/threonine-protein kinase 23"
        ],
        [
         "3",
         "Arabidopsis thaliana",
         "CAMK",
         "CIPK23",
         "CIPKN_ARATH",
         "4CZTB",
         "XRAY",
         "2.3",
         "0.179",
         "0.234",
         "31-286",
         "25-313",
         "30",
         "30",
         "0",
         "DFGin",
         "BLBminus",
         "Inactive",
         "out-out",
         "out-out",
         "CPS:61314",
         "Type1",
         "173",
         null,
         null,
         "CBL-interacting serine/threonine-protein kinase 23"
        ],
        [
         "4",
         "Arabidopsis thaliana",
         "CAMK",
         "CIPK23",
         "CIPKN_ARATH",
         "4CZUA",
         "XRAY",
         "1.9",
         "0.194",
         "0.233",
         "31-286",
         "25-320",
         "30",
         "30",
         "0",
         "DFGin",
         "BLBminus",
         "Inactive",
         "out-out",
         "out-out",
         "CPS:61321",
         "Type1",
         "173",
         null,
         "T190D",
         "CBL-interacting serine/threonine-protein kinase 23"
        ]
       ],
       "shape": {
        "columns": 25,
        "rows": 5
       }
      },
      "text/html": [
       "<div>\n",
       "<style scoped>\n",
       "    .dataframe tbody tr th:only-of-type {\n",
       "        vertical-align: middle;\n",
       "    }\n",
       "\n",
       "    .dataframe tbody tr th {\n",
       "        vertical-align: top;\n",
       "    }\n",
       "\n",
       "    .dataframe thead th {\n",
       "        text-align: right;\n",
       "    }\n",
       "</style>\n",
       "<table border=\"1\" class=\"dataframe\">\n",
       "  <thead>\n",
       "    <tr style=\"text-align: right;\">\n",
       "      <th></th>\n",
       "      <th>Organism</th>\n",
       "      <th>Group</th>\n",
       "      <th>Gene</th>\n",
       "      <th>UniprotID</th>\n",
       "      <th>PDB</th>\n",
       "      <th>Method</th>\n",
       "      <th>Resolution</th>\n",
       "      <th>Rfac</th>\n",
       "      <th>FreeRfac</th>\n",
       "      <th>DomainBoundary</th>\n",
       "      <th>...</th>\n",
       "      <th>DihedralLabel</th>\n",
       "      <th>ActivityLabel</th>\n",
       "      <th>Chelix-Saltbr</th>\n",
       "      <th>ActLoop</th>\n",
       "      <th>Ligand</th>\n",
       "      <th>LigandType</th>\n",
       "      <th>DFG_Phe</th>\n",
       "      <th>Phosphorylation</th>\n",
       "      <th>Mutations</th>\n",
       "      <th>ProteinName</th>\n",
       "    </tr>\n",
       "  </thead>\n",
       "  <tbody>\n",
       "    <tr>\n",
       "      <th>0</th>\n",
       "      <td>Aplysia californica</td>\n",
       "      <td>CAMK</td>\n",
       "      <td>TWITCHIN</td>\n",
       "      <td>Q16980_APLCA</td>\n",
       "      <td>1KOBA</td>\n",
       "      <td>XRAY</td>\n",
       "      <td>2.3</td>\n",
       "      <td>0.200</td>\n",
       "      <td>0.282</td>\n",
       "      <td>47-302</td>\n",
       "      <td>...</td>\n",
       "      <td>ABAminus</td>\n",
       "      <td>Inactive</td>\n",
       "      <td>out-out</td>\n",
       "      <td>in-out</td>\n",
       "      <td>No_ligand</td>\n",
       "      <td>No_ligand</td>\n",
       "      <td>189</td>\n",
       "      <td>NaN</td>\n",
       "      <td>NaN</td>\n",
       "      <td>Twitchin-like protein</td>\n",
       "    </tr>\n",
       "    <tr>\n",
       "      <th>1</th>\n",
       "      <td>Aplysia californica</td>\n",
       "      <td>CAMK</td>\n",
       "      <td>TWITCHIN</td>\n",
       "      <td>Q16980_APLCA</td>\n",
       "      <td>1KOBB</td>\n",
       "      <td>XRAY</td>\n",
       "      <td>2.3</td>\n",
       "      <td>0.200</td>\n",
       "      <td>0.282</td>\n",
       "      <td>47-302</td>\n",
       "      <td>...</td>\n",
       "      <td>ABAminus</td>\n",
       "      <td>Inactive</td>\n",
       "      <td>out-out</td>\n",
       "      <td>in-out</td>\n",
       "      <td>No_ligand</td>\n",
       "      <td>No_ligand</td>\n",
       "      <td>189</td>\n",
       "      <td>NaN</td>\n",
       "      <td>NaN</td>\n",
       "      <td>Twitchin-like protein</td>\n",
       "    </tr>\n",
       "    <tr>\n",
       "      <th>2</th>\n",
       "      <td>Arabidopsis thaliana</td>\n",
       "      <td>CAMK</td>\n",
       "      <td>CIPK23</td>\n",
       "      <td>CIPKN_ARATH</td>\n",
       "      <td>4CZTA</td>\n",
       "      <td>XRAY</td>\n",
       "      <td>2.3</td>\n",
       "      <td>0.179</td>\n",
       "      <td>0.234</td>\n",
       "      <td>31-286</td>\n",
       "      <td>...</td>\n",
       "      <td>BLBminus</td>\n",
       "      <td>Inactive</td>\n",
       "      <td>out-out</td>\n",
       "      <td>out-out</td>\n",
       "      <td>CPS:61316</td>\n",
       "      <td>Type1</td>\n",
       "      <td>173</td>\n",
       "      <td>NaN</td>\n",
       "      <td>NaN</td>\n",
       "      <td>CBL-interacting serine/threonine-protein kinas...</td>\n",
       "    </tr>\n",
       "    <tr>\n",
       "      <th>3</th>\n",
       "      <td>Arabidopsis thaliana</td>\n",
       "      <td>CAMK</td>\n",
       "      <td>CIPK23</td>\n",
       "      <td>CIPKN_ARATH</td>\n",
       "      <td>4CZTB</td>\n",
       "      <td>XRAY</td>\n",
       "      <td>2.3</td>\n",
       "      <td>0.179</td>\n",
       "      <td>0.234</td>\n",
       "      <td>31-286</td>\n",
       "      <td>...</td>\n",
       "      <td>BLBminus</td>\n",
       "      <td>Inactive</td>\n",
       "      <td>out-out</td>\n",
       "      <td>out-out</td>\n",
       "      <td>CPS:61314</td>\n",
       "      <td>Type1</td>\n",
       "      <td>173</td>\n",
       "      <td>NaN</td>\n",
       "      <td>NaN</td>\n",
       "      <td>CBL-interacting serine/threonine-protein kinas...</td>\n",
       "    </tr>\n",
       "    <tr>\n",
       "      <th>4</th>\n",
       "      <td>Arabidopsis thaliana</td>\n",
       "      <td>CAMK</td>\n",
       "      <td>CIPK23</td>\n",
       "      <td>CIPKN_ARATH</td>\n",
       "      <td>4CZUA</td>\n",
       "      <td>XRAY</td>\n",
       "      <td>1.9</td>\n",
       "      <td>0.194</td>\n",
       "      <td>0.233</td>\n",
       "      <td>31-286</td>\n",
       "      <td>...</td>\n",
       "      <td>BLBminus</td>\n",
       "      <td>Inactive</td>\n",
       "      <td>out-out</td>\n",
       "      <td>out-out</td>\n",
       "      <td>CPS:61321</td>\n",
       "      <td>Type1</td>\n",
       "      <td>173</td>\n",
       "      <td>NaN</td>\n",
       "      <td>T190D</td>\n",
       "      <td>CBL-interacting serine/threonine-protein kinas...</td>\n",
       "    </tr>\n",
       "  </tbody>\n",
       "</table>\n",
       "<p>5 rows × 25 columns</p>\n",
       "</div>"
      ],
      "text/plain": [
       "               Organism Group      Gene     UniprotID    PDB Method  \\\n",
       "0   Aplysia californica  CAMK  TWITCHIN  Q16980_APLCA  1KOBA   XRAY   \n",
       "1   Aplysia californica  CAMK  TWITCHIN  Q16980_APLCA  1KOBB   XRAY   \n",
       "2  Arabidopsis thaliana  CAMK    CIPK23   CIPKN_ARATH  4CZTA   XRAY   \n",
       "3  Arabidopsis thaliana  CAMK    CIPK23   CIPKN_ARATH  4CZTB   XRAY   \n",
       "4  Arabidopsis thaliana  CAMK    CIPK23   CIPKN_ARATH  4CZUA   XRAY   \n",
       "\n",
       "   Resolution   Rfac  FreeRfac DomainBoundary  ... DihedralLabel  \\\n",
       "0         2.3  0.200     0.282         47-302  ...      ABAminus   \n",
       "1         2.3  0.200     0.282         47-302  ...      ABAminus   \n",
       "2         2.3  0.179     0.234         31-286  ...      BLBminus   \n",
       "3         2.3  0.179     0.234         31-286  ...      BLBminus   \n",
       "4         1.9  0.194     0.233         31-286  ...      BLBminus   \n",
       "\n",
       "   ActivityLabel  Chelix-Saltbr  ActLoop     Ligand LigandType DFG_Phe  \\\n",
       "0       Inactive        out-out   in-out  No_ligand  No_ligand     189   \n",
       "1       Inactive        out-out   in-out  No_ligand  No_ligand     189   \n",
       "2       Inactive        out-out  out-out  CPS:61316      Type1     173   \n",
       "3       Inactive        out-out  out-out  CPS:61314      Type1     173   \n",
       "4       Inactive        out-out  out-out  CPS:61321      Type1     173   \n",
       "\n",
       "  Phosphorylation Mutations                                        ProteinName  \n",
       "0             NaN       NaN                              Twitchin-like protein  \n",
       "1             NaN       NaN                              Twitchin-like protein  \n",
       "2             NaN       NaN  CBL-interacting serine/threonine-protein kinas...  \n",
       "3             NaN       NaN  CBL-interacting serine/threonine-protein kinas...  \n",
       "4             NaN     T190D  CBL-interacting serine/threonine-protein kinas...  \n",
       "\n",
       "[5 rows x 25 columns]"
      ]
     },
     "execution_count": 4,
     "metadata": {},
     "output_type": "execute_result"
    }
   ],
   "source": [
    "df = pd.read_csv(\n",
    "    os.path.join(METADATA_DIR, 'kincore.tab'), sep='\\t'\n",
    ")\n",
    "df.head()"
   ]
  },
  {
   "cell_type": "code",
   "execution_count": 5,
   "id": "90a405a0",
   "metadata": {},
   "outputs": [
    {
     "name": "stdout",
     "output_type": "stream",
     "text": [
      "Scanning directory: /home/cotsios/dsit/2nd-semester/algos-in-struct-bio/project/MLtopKin/data\n",
      "DataFrame shape: (9697, 25)\n",
      "\n",
      "=== Processing Summary ===\n",
      "Total PDB files found: 2608\n",
      "Successfully processed: 2608\n",
      "Skipped - insufficient path depth: 0\n",
      "Skipped - invalid activity label: 0\n",
      "Skipped - parsing errors: 0\n",
      "Skipped - not found in DataFrame: 0\n",
      "Skipped - file access errors: 0\n",
      "\n",
      "=== Activity Distribution ===\n",
      "Inactive: 1300\n",
      "Active: 1308\n"
     ]
    },
    {
     "name": "stderr",
     "output_type": "stream",
     "text": [
      "Processing kinases:  67%|██████▋   | 1743/2608 [19:23<09:18,  1.55it/s]  "
     ]
    },
    {
     "name": "stdout",
     "output_type": "stream",
     "text": [
      "File /home/cotsios/dsit/2nd-semester/algos-in-struct-bio/project/MLtopKin/data/CDK2/Active/8VQ4_chainA.pdb could not be parsed with exception:\n",
      "invalid literal for int() with base 10: 'A'\n",
      "Exiting...\n",
      "Failed to create kinase for CDK2_8VQ4_A: 'Kinase' object has no attribute 'mw'\n"
     ]
    },
    {
     "name": "stderr",
     "output_type": "stream",
     "text": [
      "Processing kinases:  68%|██████▊   | 1775/2608 [19:42<05:58,  2.32it/s]"
     ]
    },
    {
     "name": "stdout",
     "output_type": "stream",
     "text": [
      "File /home/cotsios/dsit/2nd-semester/algos-in-struct-bio/project/MLtopKin/data/CDK2/Active/8VQ3_chainA.pdb could not be parsed with exception:\n",
      "invalid literal for int() with base 10: 'A'\n",
      "Exiting...\n",
      "Failed to create kinase for CDK2_8VQ3_A: 'Kinase' object has no attribute 'mw'\n"
     ]
    },
    {
     "name": "stderr",
     "output_type": "stream",
     "text": [
      "Processing kinases: 100%|██████████| 2608/2608 [27:36<00:00,  1.57it/s]\n"
     ]
    }
   ],
   "source": [
    "# Prepare kinase data list from directory structure\n",
    "kinase_data_list = prep_kinase_data_list(\n",
    "    in_path=DATA_DIR,\n",
    "    df=df,\n",
    "    gene_col='Gene',        # column name containing individual gene names\n",
    "    group_col='Group',      # column name containing gene groups/families\n",
    "    pdb_col='PDB'           # column name containing PDB IDs\n",
    ")\n",
    "\n",
    "# Create kinases with parallel processing\n",
    "kinases = create_kinase_dataset(\n",
    "    kinase_data_list,\n",
    "    max_workers=None,          # Use 8 parallel workers\n",
    "    C_alpha_only=False,      # Use only C-alpha atoms for faster computation\n",
    "    pixel_size=0.5,         # Higher resolution persistence images\n",
    "    birth_range=(0, 15),\n",
    "    pers_range=(0, 10)\n",
    ")\n",
    "\n",
    "# Extract features for machine learning\n",
    "X, y, metadata = extract_features_for_ml(kinases, include_dims=[0, 1])"
   ]
  },
  {
   "cell_type": "code",
   "execution_count": 6,
   "id": "a288c3d1",
   "metadata": {},
   "outputs": [],
   "source": [
    "np.savez_compressed(\n",
    "    os.path.join(FEATURES_DIR, 'kincore.npz'), \n",
    "    X=X, y=y, metadata=np.array(metadata, dtype=object)\n",
    ")"
   ]
  },
  {
   "cell_type": "code",
   "execution_count": 7,
   "id": "e2d5d17c",
   "metadata": {},
   "outputs": [],
   "source": [
    "# To load:\n",
    "data = np.load(os.path.join(FEATURES_DIR, 'kincore.npz'), allow_pickle=True)\n",
    "X, y, metadata = data['X'], data['y'], data['metadata']"
   ]
  },
  {
   "cell_type": "code",
   "execution_count": 8,
   "id": "49c8e4ed",
   "metadata": {},
   "outputs": [
    {
     "data": {
      "text/plain": [
       "array([[ 4.01040683e+01,  4.06351437e+01,  3.22987920e+01, ...,\n",
       "         1.89018042e-18,  1.89018042e-18,  1.89018042e-18],\n",
       "       [ 3.91975976e+01,  3.97664762e+01,  3.16800348e+01, ...,\n",
       "        -7.48967080e-18, -7.48967080e-18, -7.48967080e-18],\n",
       "       [ 4.08737981e+01,  4.12745176e+01,  3.26818206e+01, ...,\n",
       "         4.37951885e-17,  4.37951885e-17,  4.37951885e-17],\n",
       "       ...,\n",
       "       [ 5.29056475e+01,  5.35387471e+01,  4.24837907e+01, ...,\n",
       "         7.91285278e-18,  7.91285278e-18,  7.91285278e-18],\n",
       "       [ 5.26759555e+01,  5.33410951e+01,  4.23556362e+01, ...,\n",
       "         1.45928203e-17,  1.45928203e-17,  1.45928203e-17],\n",
       "       [ 1.47304657e+02,  1.44955115e+02,  1.12070638e+02, ...,\n",
       "        -1.27129031e-17, -1.27129031e-17, -1.27129031e-17]],\n",
       "      shape=(2606, 1200))"
      ]
     },
     "execution_count": 8,
     "metadata": {},
     "output_type": "execute_result"
    }
   ],
   "source": [
    "X"
   ]
  },
  {
   "cell_type": "code",
   "execution_count": 9,
   "id": "1b945cfa",
   "metadata": {},
   "outputs": [
    {
     "data": {
      "text/plain": [
       "array([1, 0, 0, ..., 1, 1, 0], shape=(2606,))"
      ]
     },
     "execution_count": 9,
     "metadata": {},
     "output_type": "execute_result"
    }
   ],
   "source": [
    "y"
   ]
  },
  {
   "cell_type": "code",
   "execution_count": 10,
   "id": "d663ef61",
   "metadata": {},
   "outputs": [
    {
     "data": {
      "text/plain": [
       "array([{'name': 'ULK1_8SV9_A', 'activity': 'active', 'pdb_id': '8SV9', 'chain': 'A', 'gene': 'ULK1', 'group': 'OTHER', 'n_atoms': 2156, 'sasa': 13439.264702432181, 'normalized_sasa': 0.01828926146715473, 'molecular_weight': 734817.2437999999},\n",
       "       {'name': 'ULK1_6MNH_A', 'activity': 'inactive', 'pdb_id': '6MNH', 'chain': 'A', 'gene': 'ULK1', 'group': 'OTHER', 'n_atoms': 2104, 'sasa': 13825.38159328916, 'normalized_sasa': 0.019155003765938358, 'molecular_weight': 721763.4495},\n",
       "       {'name': 'PIM1_4RC4_A', 'activity': 'inactive', 'pdb_id': '4RC4', 'chain': 'A', 'gene': 'PIM1', 'group': 'CAMK', 'n_atoms': 2218, 'sasa': 12987.290012468957, 'normalized_sasa': 0.017235817790979067, 'molecular_weight': 753505.8777},\n",
       "       ...,\n",
       "       {'name': 'SRPK1_5XV7_A', 'activity': 'active', 'pdb_id': '5XV7', 'chain': 'A', 'gene': 'SRPK1', 'group': 'CMGC', 'n_atoms': 2849, 'sasa': 17350.916379337636, 'normalized_sasa': 0.0176782028196462, 'molecular_weight': 981486.4416},\n",
       "       {'name': 'SRPK1_7ZKS_A', 'activity': 'active', 'pdb_id': '7ZKS', 'chain': 'A', 'gene': 'SRPK1', 'group': 'CMGC', 'n_atoms': 2830, 'sasa': 17277.07869247489, 'normalized_sasa': 0.01770518116289556, 'molecular_weight': 975820.4975999999},\n",
       "       {'name': 'LRRK2_6VNO_A', 'activity': 'inactive', 'pdb_id': '6VNO', 'chain': 'A', 'gene': 'LRRK2', 'group': 'TKL', 'n_atoms': 85200, 'sasa': 52021.699244779455, 'normalized_sasa': 0.0017719029006343684, 'molecular_weight': 29359226.8663}],\n",
       "      shape=(2606,), dtype=object)"
      ]
     },
     "execution_count": 10,
     "metadata": {},
     "output_type": "execute_result"
    }
   ],
   "source": [
    "metadata"
   ]
  },
  {
   "cell_type": "code",
   "execution_count": 11,
   "id": "1f8c33b9",
   "metadata": {},
   "outputs": [
    {
     "name": "stderr",
     "output_type": "stream",
     "text": [
      "Processing kinases:  67%|██████▋   | 1744/2608 [05:23<01:55,  7.48it/s]"
     ]
    },
    {
     "name": "stdout",
     "output_type": "stream",
     "text": [
      "File /home/cotsios/dsit/2nd-semester/algos-in-struct-bio/project/MLtopKin/data/CDK2/Active/8VQ4_chainA.pdb could not be parsed with exception:\n",
      "invalid literal for int() with base 10: 'A'\n",
      "Exiting...\n",
      "Failed to create kinase for CDK2_8VQ4_A: 'Kinase' object has no attribute 'mw'\n"
     ]
    },
    {
     "name": "stderr",
     "output_type": "stream",
     "text": [
      "Processing kinases:  68%|██████▊   | 1775/2608 [05:28<02:08,  6.48it/s]"
     ]
    },
    {
     "name": "stdout",
     "output_type": "stream",
     "text": [
      "File /home/cotsios/dsit/2nd-semester/algos-in-struct-bio/project/MLtopKin/data/CDK2/Active/8VQ3_chainA.pdb could not be parsed with exception:\n",
      "invalid literal for int() with base 10: 'A'\n",
      "Exiting...\n",
      "Failed to create kinase for CDK2_8VQ3_A: 'Kinase' object has no attribute 'mw'\n"
     ]
    },
    {
     "name": "stderr",
     "output_type": "stream",
     "text": [
      "Processing kinases: 100%|██████████| 2608/2608 [07:44<00:00,  5.61it/s]\n"
     ]
    }
   ],
   "source": [
    "# ========================================== #\n",
    "# Same as above, but only carbon alpha atoms #\n",
    "# ========================================== #\n",
    "\n",
    "# Create kinases with parallel processing\n",
    "kinases = create_kinase_dataset(\n",
    "    kinase_data_list,\n",
    "    max_workers=None,          # Use 8 parallel workers\n",
    "    C_alpha_only=True,      # Use only C-alpha atoms for faster computation\n",
    "    pixel_size=0.5,         # Higher resolution persistence images\n",
    "    birth_range=(0, 15),\n",
    "    pers_range=(0, 10)\n",
    ")\n",
    "\n",
    "# Extract features for machine learning\n",
    "X, y, metadata = extract_features_for_ml(kinases, include_dims=[0, 1])\n",
    "\n",
    "np.savez_compressed(\n",
    "    os.path.join(FEATURES_DIR, 'kincore_Calphaonly.npz'), \n",
    "    X=X, y=y, metadata=np.array(metadata, dtype=object)\n",
    ")"
   ]
  }
 ],
 "metadata": {
  "kernelspec": {
   "display_name": ".venv",
   "language": "python",
   "name": "python3"
  },
  "language_info": {
   "codemirror_mode": {
    "name": "ipython",
    "version": 3
   },
   "file_extension": ".py",
   "mimetype": "text/x-python",
   "name": "python",
   "nbconvert_exporter": "python",
   "pygments_lexer": "ipython3",
   "version": "3.12.3"
  }
 },
 "nbformat": 4,
 "nbformat_minor": 5
}
